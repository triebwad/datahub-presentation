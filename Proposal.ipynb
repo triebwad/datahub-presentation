{
 "cells": [
  {
   "cell_type": "markdown",
   "metadata": {},
   "source": [
    "# DATAHUB SERVICE PROPOSAL"
   ]
  },
  {
   "cell_type": "markdown",
   "metadata": {},
   "source": [
    "## Relevant Experience\n",
    "\n",
    "### Skyou\n",
    " - Migration to AWS cloud: ses/sqs/rds/ec2/elastic beanstalk. Dynamically scalable\n",
    " - Worked with external vendor roadmaps: aws postgresql rds support \n",
    " \n",
    "### UC Berkeley Bear Buy \n",
    " - Supported major project integrations with external partners like UCPath and Controller's Office \n",
    " - Developed customer support team for Berkeley’s BearBuy service. Student team reduced vendor registration turnaround from 1 month to 1 day. Training programs for transition from CSS to Regional Groups  \n",
    "\n",
    "### UC Berkeley Library IT\n",
    " - Open source community development: ArchivesSpace, GeoBlacklight and UCSD/UCSB’s Surfliner and Shoreline consortium\n"
   ]
  },
  {
   "cell_type": "markdown",
   "metadata": {},
   "source": [
    "## Core Concepts\n",
    "\n",
    "### Community\n",
    "- Centralize communications in and out of Datahub\n",
    "- Understand stakeholder types and needs\n",
    "- Triage and Tier level support\n",
    "- Scale support\n",
    "- Track and monitor customer interactions\n",
    "\n",
    "### Goals \n",
    "- All stakeholders in same room discussing what service is, what do we want it to be \n",
    "- Product Vision: Turnkey teaching platform for all UCB faculty\n",
    "- Strategy: Implement Jupyter ecosystem, leverage internal teaching platforms , create HA and extensible framework \n",
    "- Roadmap milestones: self service Administrative dashboard, 5 nines uptime availability, crm/help desk software with reporting\n",
    "\n",
    "### Service \n",
    "- Open Source Development and Service Support has unique issues\n",
    "- Development Processes: Product Backlog, Sprint Backlog, Retrospectives, PO/SM roles, Roadmaps \n",
    "- Servie Support: BU/Disaster Recovery, Service and Application Monitoring, CI Testing, SLAs\n"
   ]
  },
  {
   "cell_type": "markdown",
   "metadata": {},
   "source": [
    "## YEAR ONE\n",
    "- Community\n",
    "  - Triage and answer Github tickets\n",
    "  - Feedback Feature in DataHub\n",
    "  - Meet with internal/external Jupyter teams\n",
    "- Goals  \n",
    "  - Meet with leadership, devops, customer groups\n",
    "  - Define top level goals\n",
    "  - Review product roadmap, development cycle, goals\n",
    "- Service\n",
    "  - Business analysis and documentation review\n",
    "  - SWOT analysis\n",
    "    - S: passionate involvement, high caliber development, growing user base, Consortium level community and standards body\n",
    "    - W: limited human and financial resources, difficult to control/manage options\n",
    "    - O: massive potential user base, standard for teaching/analysis/publising\n",
    "    - T: focused commercial services like Hex/Google Collab, all a priority/nothing a priority\n",
    "  - Review Backup/Disaster Recovery/SLAs/SPOFs/Monitoring/CI Testing\n",
    "- Outcomes\n",
    "  - DataHub Service Roadmap\n",
    "  - Devops capacity and resource needs\n",
    "  - Manual Customer metrics\n",
    "  - Prioritized Backlog\n",
    "  - Defined Infrastructure, Service and Support Documentation\n",
    "  - Agreed upon SLA (uptimes/monitoring/backups/disaster recovery/maintenance windows)\n",
    "\n"
   ]
  },
  {
   "cell_type": "markdown",
   "metadata": {},
   "source": [
    "## YEAR TWO\n",
    "- Community\n",
    "  - Incorporate stakeholder needs into Roadmap\n",
    "  - Formal communications in and out of DataHub\n",
    "  - Maintain Customer/Leadership/Development interactions\n",
    "  - Establish Customer Support team (train trainers, hire student workers, community)\n",
    "- Goals\n",
    "  - Review External Platform integration\n",
    "    - bCourses or self service dashboard\n",
    "  - Manage Increasing number of Hubs/Courses/Faculty/Users\n",
    "  - Define and publish Service Metrics (OKRs, PKIs)\n",
    "  - Reduce Tech Debt \n",
    "  - Reduce Ticket turnaround time \n",
    "  - Increase User capacity\n",
    "- Service\n",
    "  - Service Management Architecture\n",
    "  - Reorganized Documentation and Training\n",
    "  - Formalize Help Desk: ServiceNow/Zendesk\n",
    "  - Established development processes: backlog/sprint/release, velocity and cadence\n",
    "- Outcomes\n",
    "  - Updated DataHub Service Roadmap\n",
    "  - Support Scaling and Stability\n",
    "  - Meet HA standards for all Hub courses\n",
    "  - Customer Support Software\n",
    "  - Published Service Metrics and Monitoring \n",
    "  - Advocate for support resources\n",
    "  - Define internal/external partner roadmaps and impact on DataHub\n"
   ]
  },
  {
   "cell_type": "markdown",
   "metadata": {},
   "source": [
    "## YEARS TWO TO FIVE\n",
    "- Community\n",
    "  - Continued CRM: training, ticketing, conferences, communications\n",
    "  - Establish segmented support team: onboarding/customer support/QA\n",
    "- Goals\n",
    "  - Service Management Software or Integration\n",
    "  - Increasing number of Hubs/Courses/Faculty/Users\n",
    "  - Used by all UCB departments\n",
    "- Service\n",
    "  - TIghtly align devops work and product releases with defined goals. \n",
    "  - Product owner/scrum master product backlog grooming.\n",
    "- Outcomes\n",
    "  - Ability to pivot service development\n",
    "  - DataHub used by all UCB Departments\n",
    "  - Dynamic service load support\n",
    "  - Automated CRM/Help Desk reporting\n",
    "  - Segmented Customer Support \n",
    "  - Reduced Support Turnaround times\n",
    "  - Increased Service Reliability\n"
   ]
  },
  {
   "cell_type": "markdown",
   "metadata": {},
   "source": [
    "## Summary\n",
    "- Build out processes that move the service forward\n",
    "- Maintain scalable, collaborative and survivable communications\n",
    "- Recognize both Risks and Benefits of Open Source Service support\n",
    "- Key takeaway from Surliner Team: Create processes that support Pivot\n"
   ]
  }
 ],
 "metadata": {
  "history": [
   {
    "code": "a = 4\nb = 6\nprint a + b",
    "id": "78c66a34616a43728682b0f275c85ea2",
    "idx": 0,
    "time": "2021-01-26T22:33:01.393Z",
    "type": "execution"
   },
   {
    "id": "78c66a34616a43728682b0f275c85ea2",
    "time": "2021-01-26T22:33:01.484Z",
    "type": "completion"
   },
   {
    "code": "a = 4\nb = 6\nprint (a + b)",
    "id": "78c66a34616a43728682b0f275c85ea2",
    "idx": 0,
    "time": "2021-01-26T22:33:24.471Z",
    "type": "execution"
   },
   {
    "id": "78c66a34616a43728682b0f275c85ea2",
    "time": "2021-01-26T22:33:24.556Z",
    "type": "completion"
   },
   {
    "code": "%lsmagic",
    "id": "78787767c41344f68c61f3526c46f3bb",
    "idx": 1,
    "time": "2021-01-26T22:42:36.303Z",
    "type": "execution"
   },
   {
    "id": "78787767c41344f68c61f3526c46f3bb",
    "time": "2021-01-26T22:42:36.449Z",
    "type": "completion"
   },
   {
    "code": "%matplotlib\nimport numby as np\nimport matplotlib.pyplot as plt",
    "id": "0920004cc1e641edaab4d08bc2a591c8",
    "idx": 2,
    "time": "2021-01-26T22:44:53.754Z",
    "type": "execution"
   },
   {
    "id": "0920004cc1e641edaab4d08bc2a591c8",
    "time": "2021-01-26T22:44:57.042Z",
    "type": "completion"
   },
   {
    "code": "%matplotlib\nimport numpy as np\nimport matplotlib.pyplot as plt",
    "id": "0920004cc1e641edaab4d08bc2a591c8",
    "idx": 2,
    "time": "2021-01-26T22:45:22.863Z",
    "type": "execution"
   },
   {
    "id": "0920004cc1e641edaab4d08bc2a591c8",
    "time": "2021-01-26T22:45:22.941Z",
    "type": "completion"
   },
   {
    "code": "%timeit np.linalg.eigvals(np.random.rand(100,100))",
    "id": "94628aced6ef412eae7b27b5f5be53d9",
    "idx": 3,
    "time": "2021-01-26T22:45:28.940Z",
    "type": "execution"
   },
   {
    "id": "94628aced6ef412eae7b27b5f5be53d9",
    "time": "2021-01-26T22:45:35.134Z",
    "type": "completion"
   },
   {
    "code": "x = np.linspace(0, 3*np.pi, 500)\nplt.plot(x, np.sin(x**2))\nplt.title('A simple chirp');",
    "id": "1be5d67fd0a049d38dfc75bde30a09e9",
    "idx": 4,
    "time": "2021-01-26T22:46:49.880Z",
    "type": "execution"
   },
   {
    "id": "1be5d67fd0a049d38dfc75bde30a09e9",
    "time": "2021-01-26T22:46:50.077Z",
    "type": "completion"
   },
   {
    "code": "x = np.linspace(0, 3*np.pi, 500)\nplt.plot(x, np.sin(x**2))\nplt.title('A simple chirp');",
    "id": "1be5d67fd0a049d38dfc75bde30a09e9",
    "idx": 4,
    "time": "2021-01-26T22:47:25.708Z",
    "type": "execution"
   },
   {
    "id": "1be5d67fd0a049d38dfc75bde30a09e9",
    "time": "2021-01-26T22:47:25.817Z",
    "type": "completion"
   },
   {
    "code": "x = np.linspace(0, 3*np.pi, 500)\nplt.plot(x, np.sin(x**2))\nplt.title('A simple chirp');",
    "id": "af6abd8d069b467a894f9739ca6a953f",
    "idx": 4,
    "time": "2021-01-27T00:18:58.193Z",
    "type": "execution"
   },
   {
    "id": "af6abd8d069b467a894f9739ca6a953f",
    "time": "2021-01-27T00:18:58.317Z",
    "type": "completion"
   },
   {
    "code": "%matplotlib\nimport numpy as np\nimport matplotlib.pyplot as plt",
    "id": "d0e045392993437f8e1a0afc31f968c5",
    "idx": 2,
    "time": "2021-01-27T00:19:13.716Z",
    "type": "execution"
   },
   {
    "id": "d0e045392993437f8e1a0afc31f968c5",
    "time": "2021-01-27T00:19:14.105Z",
    "type": "completion"
   },
   {
    "code": "x = np.linspace(0, 3*np.pi, 500)\nplt.plot(x, np.sin(x**2))\nplt.title('A simple chirp');",
    "id": "af6abd8d069b467a894f9739ca6a953f",
    "idx": 4,
    "time": "2021-01-27T00:19:18.898Z",
    "type": "execution"
   },
   {
    "id": "af6abd8d069b467a894f9739ca6a953f",
    "time": "2021-01-27T00:19:19.086Z",
    "type": "completion"
   }
  ],
  "kernelspec": {
   "display_name": "Python 3",
   "language": "python",
   "name": "python3"
  },
  "language_info": {
   "codemirror_mode": {
    "name": "ipython",
    "version": 3
   },
   "file_extension": ".py",
   "mimetype": "text/x-python",
   "name": "python",
   "nbconvert_exporter": "python",
   "pygments_lexer": "ipython3",
   "version": "3.8.8"
  }
 },
 "nbformat": 4,
 "nbformat_minor": 4
}
