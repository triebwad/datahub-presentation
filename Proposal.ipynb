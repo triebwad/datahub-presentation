{
 "cells": [
  {
   "cell_type": "markdown",
   "metadata": {},
   "source": [
    "# Program Management Roadmap"
   ]
  },
  {
   "cell_type": "markdown",
   "metadata": {},
   "source": [
    "## FIRST YEAR\n",
    "- Community\n",
    "    - Triage and answer Github tickets\n",
    "    - Feedback Feature in DataHub\n",
    "    - Meet with Jupyter module teams\n",
    "- Goals\n",
    "- Meet with leadership, devops, customer groups\n",
    "- Define top level goals\n",
    "- Review product roadmap, development cycle, goals\n",
    "- Business analysis and documentation review\n",
    "- SWOT analysis\n",
    "- Review Backup/Disaster Recovery/SLAs\n"
   ]
  },
  {
   "cell_type": "markdown",
   "metadata": {},
   "source": [
    "## 6 MONTHS TO 1 YEAR\n",
    "- Community\n",
    "-- Triage and answer Github tickets\n",
    "- Goals\n",
    "- Define/Establish Customer->Leadership->Development communications (product backlog grooming)\n",
    "- Service\n",
    "- Reorganize Documentation and Training\n",
    "- Formalize Help Desk\n"
   ]
  },
  {
   "cell_type": "markdown",
   "metadata": {},
   "source": [
    "## 1 YEAR TO 2 YEARS\n",
    "- Continued CRM: training, ticketing, conferences, communications \n",
    "- TIghtly align devops work and product releases with defined goals. \n",
    "- Product owner/scrum master product backlog grooming. \n",
    "- Reduce customer request turnaround time by 50%\n",
    "- Produce CRM tracking metrics\n",
    "- Support 50% increase in Hub Users\n",
    "\n"
   ]
  },
  {
   "cell_type": "markdown",
   "metadata": {},
   "source": [
    "## 2 YEARS TO 5 YEARS\n",
    "- Reduce Tech Debt by 50% \n",
    "- No Textbooks in Data classes. Only digital tools. \n",
    "- Self managed dashboard for Faculty and Student services (ie: SIS CalCentral)\n",
    "- All Documentation and Training in Jupyter Notebooks\n",
    "- Generate automated Application Performance Monitoring dashboard/metrics\n",
    "- Expand DataHub to all disciplines (sociology, economics, psychology, geosciences, humanities). Any causal/correlative research should be using datahub. \n",
    "- Survive potential 100% staff turnover. \n"
   ]
  },
  {
   "cell_type": "code",
   "execution_count": null,
   "metadata": {},
   "outputs": [],
   "source": []
  }
 ],
 "metadata": {
  "history": [
   {
    "code": "a = 4\nb = 6\nprint a + b",
    "id": "78c66a34616a43728682b0f275c85ea2",
    "idx": 0,
    "time": "2021-01-26T22:33:01.393Z",
    "type": "execution"
   },
   {
    "id": "78c66a34616a43728682b0f275c85ea2",
    "time": "2021-01-26T22:33:01.484Z",
    "type": "completion"
   },
   {
    "code": "a = 4\nb = 6\nprint (a + b)",
    "id": "78c66a34616a43728682b0f275c85ea2",
    "idx": 0,
    "time": "2021-01-26T22:33:24.471Z",
    "type": "execution"
   },
   {
    "id": "78c66a34616a43728682b0f275c85ea2",
    "time": "2021-01-26T22:33:24.556Z",
    "type": "completion"
   },
   {
    "code": "%lsmagic",
    "id": "78787767c41344f68c61f3526c46f3bb",
    "idx": 1,
    "time": "2021-01-26T22:42:36.303Z",
    "type": "execution"
   },
   {
    "id": "78787767c41344f68c61f3526c46f3bb",
    "time": "2021-01-26T22:42:36.449Z",
    "type": "completion"
   },
   {
    "code": "%matplotlib\nimport numby as np\nimport matplotlib.pyplot as plt",
    "id": "0920004cc1e641edaab4d08bc2a591c8",
    "idx": 2,
    "time": "2021-01-26T22:44:53.754Z",
    "type": "execution"
   },
   {
    "id": "0920004cc1e641edaab4d08bc2a591c8",
    "time": "2021-01-26T22:44:57.042Z",
    "type": "completion"
   },
   {
    "code": "%matplotlib\nimport numpy as np\nimport matplotlib.pyplot as plt",
    "id": "0920004cc1e641edaab4d08bc2a591c8",
    "idx": 2,
    "time": "2021-01-26T22:45:22.863Z",
    "type": "execution"
   },
   {
    "id": "0920004cc1e641edaab4d08bc2a591c8",
    "time": "2021-01-26T22:45:22.941Z",
    "type": "completion"
   },
   {
    "code": "%timeit np.linalg.eigvals(np.random.rand(100,100))",
    "id": "94628aced6ef412eae7b27b5f5be53d9",
    "idx": 3,
    "time": "2021-01-26T22:45:28.940Z",
    "type": "execution"
   },
   {
    "id": "94628aced6ef412eae7b27b5f5be53d9",
    "time": "2021-01-26T22:45:35.134Z",
    "type": "completion"
   },
   {
    "code": "x = np.linspace(0, 3*np.pi, 500)\nplt.plot(x, np.sin(x**2))\nplt.title('A simple chirp');",
    "id": "1be5d67fd0a049d38dfc75bde30a09e9",
    "idx": 4,
    "time": "2021-01-26T22:46:49.880Z",
    "type": "execution"
   },
   {
    "id": "1be5d67fd0a049d38dfc75bde30a09e9",
    "time": "2021-01-26T22:46:50.077Z",
    "type": "completion"
   },
   {
    "code": "x = np.linspace(0, 3*np.pi, 500)\nplt.plot(x, np.sin(x**2))\nplt.title('A simple chirp');",
    "id": "1be5d67fd0a049d38dfc75bde30a09e9",
    "idx": 4,
    "time": "2021-01-26T22:47:25.708Z",
    "type": "execution"
   },
   {
    "id": "1be5d67fd0a049d38dfc75bde30a09e9",
    "time": "2021-01-26T22:47:25.817Z",
    "type": "completion"
   },
   {
    "code": "x = np.linspace(0, 3*np.pi, 500)\nplt.plot(x, np.sin(x**2))\nplt.title('A simple chirp');",
    "id": "af6abd8d069b467a894f9739ca6a953f",
    "idx": 4,
    "time": "2021-01-27T00:18:58.193Z",
    "type": "execution"
   },
   {
    "id": "af6abd8d069b467a894f9739ca6a953f",
    "time": "2021-01-27T00:18:58.317Z",
    "type": "completion"
   },
   {
    "code": "%matplotlib\nimport numpy as np\nimport matplotlib.pyplot as plt",
    "id": "d0e045392993437f8e1a0afc31f968c5",
    "idx": 2,
    "time": "2021-01-27T00:19:13.716Z",
    "type": "execution"
   },
   {
    "id": "d0e045392993437f8e1a0afc31f968c5",
    "time": "2021-01-27T00:19:14.105Z",
    "type": "completion"
   },
   {
    "code": "x = np.linspace(0, 3*np.pi, 500)\nplt.plot(x, np.sin(x**2))\nplt.title('A simple chirp');",
    "id": "af6abd8d069b467a894f9739ca6a953f",
    "idx": 4,
    "time": "2021-01-27T00:19:18.898Z",
    "type": "execution"
   },
   {
    "id": "af6abd8d069b467a894f9739ca6a953f",
    "time": "2021-01-27T00:19:19.086Z",
    "type": "completion"
   }
  ],
  "kernelspec": {
   "display_name": "Python 3",
   "language": "python",
   "name": "python3"
  },
  "language_info": {
   "codemirror_mode": {
    "name": "ipython",
    "version": 3
   },
   "file_extension": ".py",
   "mimetype": "text/x-python",
   "name": "python",
   "nbconvert_exporter": "python",
   "pygments_lexer": "ipython3",
   "version": "3.8.6"
  }
 },
 "nbformat": 4,
 "nbformat_minor": 4
}
